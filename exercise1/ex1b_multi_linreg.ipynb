{
 "cells": [
  {
   "cell_type": "code",
   "execution_count": 1,
   "metadata": {},
   "outputs": [
    {
     "data": {
      "text/plain": [
       "((155,), (155,), (155,))"
      ]
     },
     "execution_count": 1,
     "metadata": {},
     "output_type": "execute_result"
    }
   ],
   "source": [
    "### import the data for a linear regression model \n",
    "### with multiple variables \n",
    "### try to predict oxygen with temperature and salinity \n",
    "\n",
    "### Part 1 same as in ex1a, except add tmperature \n",
    "#uncomment lines with a single \"#\" to see the output\n",
    "import os\n",
    "import pandas as pd\n",
    "import matplotlib.pyplot as plt\n",
    "import numpy as np\n",
    "\n",
    "#####   PART 1: IMPORT, SORT and FILTER DATA #####\n",
    "###import data and convert dates to datetime format\n",
    "df=pd.read_csv('WaterQualityWaterQualityStation.csv')\n",
    "df['SampleDate']=pd.to_datetime(df.SampleDate)\n",
    "#df.SampleDate.head()\n",
    "###sort by ascending sample date\n",
    "df=df.sort_values(by=['SampleDate','Depth'])\n",
    "###filter to only use july samples in the analysis \n",
    "df_filtered=df.query('SampleDate.dt.month==7')\n",
    "###keep oxygen and salinity \n",
    "oxygen_df=df_filtered[df_filtered['Parameter'].str.match('DO')]\n",
    "salt_df=df_filtered[df_filtered['Parameter'].str.match('SALINITY')]\n",
    "temp_df=df_filtered[df_filtered['Parameter'].str.match('WTEMP')]\n",
    "###check that the sample dates and depths match up \n",
    "o2_list = oxygen_df[['SampleDate','Depth']]\n",
    "salt_list = salt_df[['SampleDate','Depth']]\n",
    "temp_list = temp_df[['SampleDate','Depth']]\n",
    "#check=(o2_list.reset_index()==salt_list.reset_index())\n",
    "#check.SampleDate.value_counts(),check.Depth.value_counts()\n",
    "#check=(o2_list.reset_index()==temp_list.reset_index())\n",
    "#check.SampleDate.value_counts(),check.Depth.value_counts()\n",
    "###keep just the values\n",
    "oxygen=oxygen_df.MeasureValue.to_numpy()\n",
    "salt=salt_df.MeasureValue.to_numpy()\n",
    "temp=temp_df.MeasureValue.to_numpy()\n",
    "salt.shape, oxygen.shape, temp.shape "
   ]
  },
  {
   "cell_type": "code",
   "execution_count": 2,
   "metadata": {},
   "outputs": [
    {
     "name": "stdout",
     "output_type": "stream",
     "text": [
      "First 10 examples from the dataset: \n",
      "\n",
      "[[ 9.2  26.1   8.5 ]\n",
      " [ 9.2  25.6   8.4 ]\n",
      " [ 9.2  25.6   8.3 ]\n",
      " [ 9.27 25.6   8.  ]\n",
      " [ 9.53 25.7   7.8 ]\n",
      " [10.3  25.9   7.6 ]\n",
      " [10.37 25.9   7.6 ]\n",
      " [10.37 25.9   7.6 ]\n",
      " [11.08 25.9   6.9 ]\n",
      " [11.21 25.8   6.7 ]]\n"
     ]
    }
   ],
   "source": [
    "### first ten examples\n",
    "### X includes salt and temp, y is oxygen \n",
    "print('First 10 examples from the dataset: \\n')\n",
    "print(np.column_stack([salt[:10],temp[:10],oxygen[:10]]))"
   ]
  },
  {
   "cell_type": "code",
   "execution_count": 3,
   "metadata": {},
   "outputs": [],
   "source": [
    "#####   PART 2: FEATURE NORMALIZATION #####\n",
    "### Scale features and set them to zero mean\n",
    "m=oxygen.size\n",
    "X=np.column_stack([salt,temp])\n",
    "y=oxygen\n",
    "mu=np.mean(X,axis=0)\n",
    "sigma=np.std(X,axis=0)\n",
    "X_norm=(X-np.tile(mu,(m,1)))/np.tile(mu,(m,1)) \n",
    "\n",
    "### Add intercept term to X\n",
    "X = np.column_stack((np.ones(m),X_norm)) "
   ]
  },
  {
   "cell_type": "code",
   "execution_count": 4,
   "metadata": {},
   "outputs": [
    {
     "data": {
      "image/png": "[encoded data removed]",
      "text/plain": [
       "<Figure size 432x288 with 1 Axes>"
      ]
     },
     "metadata": {
      "needs_background": "light"
     },
     "output_type": "display_data"
    },
    {
     "name": "stdout",
     "output_type": "stream",
     "text": [
      "Theta computed from gradient descent: \n",
      "\n",
      "[  3.34948387 -10.09460184   4.46426167]\n",
      "Predicted oxygen concentration with S=15, T=25 (using gradient descent):\n",
      " 14.916919240571277\n"
     ]
    }
   ],
   "source": [
    "#####   PART 3: GRADIENT DESCENT #####\n",
    "### choose some alpha value, init theta\n",
    "alpha = 0.1\n",
    "num_iters = 600\n",
    "theta = np.zeros(X[1].size)\n",
    "\n",
    "### build the cost function. same as in ex 1a. \n",
    "def computeCost(X, y, theta):\n",
    "    var=np.zeros(y.size)\n",
    "    for i in range(0,y.size):\n",
    "        var[i]=(np.dot(theta.T,X[i,:])-y[i])**2  \n",
    "    return (1/(2*m))*np.sum(var)\n",
    "\n",
    "### build the gradient descent function \n",
    "def gradientDescentMulti(X, y, theta, alpha, num_iters):\n",
    "    J_history=np.zeros(num_iters)\n",
    "    var1=np.zeros(y.size)\n",
    "    var2=np.zeros(theta.size)\n",
    "    for num_iters in range (0,num_iters):\n",
    "        var1=np.sum(np.tile(theta,(y.size,1))*X,axis=1)-y \n",
    "        for i in range (0,theta.size):\n",
    "            var2[i]=np.sum(var1*X[:,i]) \n",
    "        theta=theta-alpha*(1/m)*var2\n",
    "        J_history[num_iters]=computeCost(X, y, theta)\n",
    "    return theta, J_history\n",
    "\n",
    "### run the gradient descent algorithm and save out cost history \n",
    "[theta, J_history] = gradientDescentMulti(X, y, theta, alpha, num_iters)\n",
    "\n",
    "### plot the cost function history \n",
    "plt.plot(np.arange(0,num_iters),J_history,'ko')\n",
    "plt.xlabel('iterations')\n",
    "plt.ylabel('cost')\n",
    "plt.show()\n",
    "\n",
    "### Display gradient descent's result\n",
    "print('Theta computed from gradient descent: \\n')\n",
    "print(theta)\n",
    "\n",
    "### Estimate the oxygen concentration for \n",
    "### salinity=10, temperature=25\n",
    "### Recall that the first column of X is all ones \n",
    "### Thus, it does not need to be normalized.\n",
    "o2 = theta[0] + theta[1]*((10-mu[0])/sigma[0]) + theta[2]*((25-mu[1])/sigma[1])\n",
    "\n",
    "print('Predicted oxygen concentration with S=15, T=25 \\\n",
    "(using gradient descent):\\n', o2)"
   ]
  },
  {
   "cell_type": "code",
   "execution_count": 5,
   "metadata": {},
   "outputs": [
    {
     "name": "stdout",
     "output_type": "stream",
     "text": [
      "Theta computed from the normal equations: \n",
      "\n",
      "[ 3.34948387 -7.25145359 22.18016229]\n",
      "Predicted oxygen concentration with S=15, T=25 (using gradient descent):\n",
      " 9.333818427654082\n"
     ]
    }
   ],
   "source": [
    "#####   PART 4: NORMAL EQUATIONS #####\n",
    "\n",
    "### Calculate the parameters from the normal equation \n",
    "### define the normal equation \n",
    "theta = np.zeros(X[1].size)\n",
    "def normalEqn(X, y):\n",
    "    theta=np.linalg.inv(np.transpose(X)@X)@np.transpose(X)@y\n",
    "    return theta\n",
    "\n",
    "theta = normalEqn(X, y)\n",
    "\n",
    "### Display normal equation's result\n",
    "print('Theta computed from the normal equations: \\n')\n",
    "print(theta)\n",
    "\n",
    "### Estimate the oxygen concentration for \n",
    "### salinity=10, temperature=25\n",
    "o2 = theta[0] + theta[1]*((10-mu[0])/sigma[0]) + theta[2]*((25-mu[1])/sigma[1])\n",
    "\n",
    "print('Predicted oxygen concentration with S=15, T=25 \\\n",
    "(using gradient descent):\\n', o2)"
   ]
  }
 ],
 "metadata": {
  "kernelspec": {
   "display_name": "Python 3",
   "language": "python",
   "name": "python3"
  },
  "language_info": {
   "codemirror_mode": {
    "name": "ipython",
    "version": 3
   },
   "file_extension": ".py",
   "mimetype": "text/x-python",
   "name": "python",
   "nbconvert_exporter": "python",
   "pygments_lexer": "ipython3",
   "version": "3.7.4"
  }
 },
 "nbformat": 4,
 "nbformat_minor": 2
}
